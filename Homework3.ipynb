{
 "cells": [
  {
   "cell_type": "code",
   "execution_count": 1,
   "metadata": {
    "collapsed": false
   },
   "outputs": [],
   "source": [
    "from math import *\n",
    "\n",
    "import loan as p1\n",
    "import root_finder_examples as p2\n",
    "import arclength as p3\n",
    "import sin_Taylor_series_diffeq as p4"
   ]
  },
  {
   "cell_type": "markdown",
   "metadata": {
    "collapsed": false
   },
   "source": [
    "# Homework 3\n",
    "\n",
    "### Taylor Patti\n",
    "### 2/29/16"
   ]
  },
  {
   "cell_type": "markdown",
   "metadata": {},
   "source": [
    "## Loan\n",
    "\n",
    "Calculates the amount of a loan left over as well as the payment made that month for a given loan amount, interest rate, and number of months."
   ]
  },
  {
   "cell_type": "code",
   "execution_count": 2,
   "metadata": {
    "collapsed": false
   },
   "outputs": [
    {
     "data": {
      "text/plain": [
       "1000.0"
      ]
     },
     "execution_count": 2,
     "metadata": {},
     "output_type": "execute_result"
    }
   ],
   "source": [
    "p1.loan_calculator(1000, 12, 5)[0][0] #First month's remaining loan"
   ]
  },
  {
   "cell_type": "code",
   "execution_count": 3,
   "metadata": {
    "collapsed": false
   },
   "outputs": [
    {
     "data": {
      "text/plain": [
       "0.0"
      ]
     },
     "execution_count": 3,
     "metadata": {},
     "output_type": "execute_result"
    }
   ],
   "source": [
    "p1.loan_calculator(1000, 12, 5)[0][-1] #Last month's remaining loan"
   ]
  },
  {
   "cell_type": "code",
   "execution_count": 4,
   "metadata": {
    "collapsed": false
   },
   "outputs": [
    {
     "data": {
      "text/plain": [
       "210.0"
      ]
     },
     "execution_count": 4,
     "metadata": {},
     "output_type": "execute_result"
    }
   ],
   "source": [
    "p1.loan_calculator(1000, 12, 5)[1][1] #First payments's interest"
   ]
  },
  {
   "cell_type": "code",
   "execution_count": 5,
   "metadata": {
    "collapsed": false
   },
   "outputs": [
    {
     "data": {
      "text/plain": [
       "202.0"
      ]
     },
     "execution_count": 5,
     "metadata": {},
     "output_type": "execute_result"
    }
   ],
   "source": [
    "p1.loan_calculator(1000, 12, 5)[1][-1] #Last payment's interest"
   ]
  },
  {
   "cell_type": "markdown",
   "metadata": {},
   "source": [
    "## root_finder_examples\n",
    "\n",
    "Finds the numerical roots for a function based on three methods, then outputs a table of those\n",
    "x-values for the root as well as the relative error for the approximation."
   ]
  },
  {
   "cell_type": "code",
   "execution_count": 6,
   "metadata": {
    "collapsed": false
   },
   "outputs": [
    {
     "ename": "SyntaxError",
     "evalue": "invalid syntax (<string>, line 1)",
     "output_type": "error",
     "traceback": [
      "\u001b[1;36m  File \u001b[1;32m\"<string>\"\u001b[1;36m, line \u001b[1;32m1\u001b[0m\n\u001b[1;33m    --matplotlib=inline\u001b[0m\n\u001b[1;37m                ^\u001b[0m\n\u001b[1;31mSyntaxError\u001b[0m\u001b[1;31m:\u001b[0m invalid syntax\n"
     ]
    }
   ],
   "source": [
    "p2.run(sinh, cosh, -1, 1, 1, 1.1)"
   ]
  },
  {
   "cell_type": "markdown",
   "metadata": {},
   "source": [
    "## arclength\n",
    "\n",
    "Calculates the arclength of a function with the classic formula but taken over discrete integration. Here we see the final integral of an erg function over the interval -2 to 2."
   ]
  },
  {
   "cell_type": "code",
   "execution_count": 9,
   "metadata": {
    "collapsed": false
   },
   "outputs": [
    {
     "name": "stdout",
     "output_type": "stream",
     "text": [
      "4.04857187118\n"
     ]
    }
   ],
   "source": [
    "print p3.arclength(p3.part_c, -2, 2, 100)[-1]\n"
   ]
  },
  {
   "cell_type": "markdown",
   "metadata": {},
   "source": [
    "## sin_Taylor_series_diffeq\n",
    "\n",
    "Takes the Taylor Series expansion for sin at a given point x up to the given number of nth term. Here we show a table which compares performance for several different x and n values."
   ]
  },
  {
   "cell_type": "code",
   "execution_count": 10,
   "metadata": {
    "collapsed": false
   },
   "outputs": [
    {
     "name": "stdout",
     "output_type": "stream",
     "text": [
      "\n",
      "        X-Value         N-Value               Approx                Error\n",
      "\n",
      "       0.200000               2             0.198667            -0.000003\n",
      "\n",
      "       0.200000               4             0.198669            -0.000000\n",
      "\n",
      "       0.200000              10             0.198669             0.000000\n",
      "\n",
      "       1.570000               2             0.925018            -0.074982\n",
      "\n",
      "       1.570000               4             0.999843            -0.000156\n",
      "\n",
      "       1.570000              10             1.000000             0.000000\n",
      "\n",
      "       3.140000               2            -2.019857            -2.021450\n",
      "\n",
      "       3.140000               4            -0.073292            -0.074885\n",
      "\n",
      "       3.140000              10             0.001593            -0.000000\n",
      "\n"
     ]
    }
   ],
   "source": [
    "p4.table()"
   ]
  }
 ],
 "metadata": {
  "kernelspec": {
   "display_name": "Python 2 (SageMath)",
   "language": "python",
   "name": "python2"
  },
  "language_info": {
   "codemirror_mode": {
    "name": "ipython",
    "version": 2
   },
   "file_extension": ".py",
   "mimetype": "text/x-python",
   "name": "python",
   "nbconvert_exporter": "python",
   "pygments_lexer": "ipython2",
   "version": "2.7.10"
  },
  "name": "Homework3.ipynb"
 },
 "nbformat": 4,
 "nbformat_minor": 0
}
